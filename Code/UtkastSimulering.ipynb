{
 "cells": [
  {
   "cell_type": "code",
   "execution_count": 6,
   "metadata": {},
   "outputs": [],
   "source": [
    "import math\n",
    "import numpy as np \n",
    "from matplotlib import pyplot as plt\n",
    "from tkinter import Tk, Canvas\n",
    "import time\n"
   ]
  },
  {
   "cell_type": "code",
   "execution_count": 15,
   "metadata": {},
   "outputs": [],
   "source": [
    "#------------------------CREATE ARENA----------------------#\n",
    "\n",
    "import tkinter as tk\n",
    "\n",
    "# Wall points\n",
    "x1 = [0, 0, 0, 12]\n",
    "y1 = [9, 28, 28, 28]\n",
    "\n",
    "x2 = [17, 30, 30, 30, 30, 104]\n",
    "y2 = [28, 28, 28, 40, 40, 40]\n",
    "\n",
    "x3 = [109, 140, 140, 140]\n",
    "y3 = [40, 40, 40, 10]\n",
    "\n",
    "x4 = [140, 140, 140, 104, 104, 104, 104, 67, 67, 67, 67, 58, 58, 58, 58, 44, 44, 44, 44, 0]\n",
    "y4 = [5, 0, 0, 0, 0, 30, 30, 30, 30, 6, 6, 6, 6, 20, 20, 20, 20, 9, 9, 9]\n",
    "\n",
    "# Wall thickness\n",
    "wall_thickness = 3\n",
    "scale = 6 # Scale factor for better visualization in the canvas\n",
    "\n",
    "# Canvas size\n",
    "canvas_size = 1000\n",
    "max_y = max(max(y1), max(y2), max(y3), max(y4))  # Find the maximum Y-coordinate for flipping\n",
    "\n",
    "# Initialize the main window\n",
    "window = tk.Tk()\n",
    "window.title(\"Wall Drawing\")\n",
    "canvas = tk.Canvas(window, width=canvas_size, height=canvas_size, bg=\"white\")\n",
    "canvas.pack()\n",
    "\n",
    "# Draw walls as rectangles\n",
    "def draw_walls(x_coords, y_coords, thickness, scale_factor):\n",
    "    for i in range(len(x_coords) - 1):\n",
    "        x_start = x_coords[i] * scale_factor + 50\n",
    "        y_start = (max_y - y_coords[i]) * scale_factor + 200  # Flip Y-axis\n",
    "        x_end = x_coords[i + 1] * scale_factor + 50\n",
    "        y_end = (max_y - y_coords[i + 1]) * scale_factor + 200  # Flip Y-axis\n",
    "\n",
    "        # Draw a rectangle for each segment to represent wall thickness\n",
    "        canvas.create_rectangle(\n",
    "            x_start,\n",
    "            y_start,\n",
    "            x_end + thickness if x_start == x_end else x_end,\n",
    "            y_end + thickness if y_start == y_end else y_end,\n",
    "            fill=\"black\",\n",
    "        )\n",
    "\n",
    "\n",
    "# Draw the walls using the points\n",
    "draw_walls(x1, y1, wall_thickness, scale)\n",
    "draw_walls(x2, y2, wall_thickness, scale)\n",
    "draw_walls(x3, y3, wall_thickness, scale)\n",
    "draw_walls(x4, y4, wall_thickness, scale)\n",
    "\n",
    "# Start the Tkinter event loop\n",
    "window.mainloop()\n"
   ]
  },
  {
   "cell_type": "code",
   "execution_count": null,
   "metadata": {},
   "outputs": [],
   "source": []
  }
 ],
 "metadata": {
  "kernelspec": {
   "display_name": "Python 3",
   "language": "python",
   "name": "python3"
  },
  "language_info": {
   "codemirror_mode": {
    "name": "ipython",
    "version": 3
   },
   "file_extension": ".py",
   "mimetype": "text/x-python",
   "name": "python",
   "nbconvert_exporter": "python",
   "pygments_lexer": "ipython3",
   "version": "3.12.2"
  }
 },
 "nbformat": 4,
 "nbformat_minor": 2
}
